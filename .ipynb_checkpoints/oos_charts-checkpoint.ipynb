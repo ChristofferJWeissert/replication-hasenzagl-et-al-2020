{
 "cells": [
  {
   "cell_type": "markdown",
   "metadata": {},
   "source": [
    "# A Model of the Fed's View on Inflation\n",
    "\n",
    "### Thomas Hasenzagl$^1$, Filippo Pellegrino$^2$, Lucrezia Reichlin$^3$, Giovanni Ricco$^4$\n",
    "\n",
    "$^1$ University of Minnesota <br>\n",
    "$^2$ London School of Economics and Political Science <br>\n",
    "$^3$ London Business School, Now-Casting Economics, and CEPR <br>\n",
    "$^4$ University of Warwick and OFCE-SciencesPo <br>\n",
    "\n",
    "\n",
    "#### Notebook description\n",
    "\n",
    "This notebook generates the charts and tables from the out-of-sample estimation exercise from the paper \"A Model of the Fed's View on Inflation\". Before running this notebook you have to run `user_main.jl` using `run_type=3`. \n"
   ]
  },
  {
   "cell_type": "code",
   "execution_count": 1,
   "metadata": {},
   "outputs": [
    {
     "data": {
      "application/vnd.webio.node+json": {
       "children": [],
       "instanceArgs": {
        "namespace": "html",
        "tag": "div"
       },
       "nodeType": "DOM",
       "props": {},
       "type": "node"
      },
      "text/html": [
       "<div style=\"padding: 1em; background-color: #f8d6da; border: 1px solid #f5c6cb; font-weight: bold;\">\n",
       "<p>The WebIO Jupyter extension was not detected. See the\n",
       "<a href=\"https://juliagizmos.github.io/WebIO.jl/latest/providers/ijulia/\" target=\"_blank\">\n",
       "    WebIO Jupyter integration documentation\n",
       "</a>\n",
       "for more information.\n",
       "</div>\n"
      ],
      "text/plain": [
       "WebIO._IJuliaInit()"
      ]
     },
     "metadata": {
      "application/vnd.webio.node+json": {
       "kernelId": "e7df7044-40e0-413a-bad3-e32c22159372"
      }
     },
     "output_type": "display_data"
    },
    {
     "name": "stderr",
     "output_type": "stream",
     "text": [
      "┌ Warning: ORCA.jl has been deprecated and all savefig functionality\n",
      "│ has been implemented directly in PlotlyBase itself.\n",
      "│ \n",
      "│ By implementing in PlotlyBase.jl, the savefig routines are automatically\n",
      "│ available to PlotlyJS.jl also.\n",
      "└ @ ORCA C:\\Users\\Christoffer.Weissert\\.julia\\packages\\ORCA\\U5XaN\\src\\ORCA.jl:8\n"
     ]
    }
   ],
   "source": [
    "# ----- Load libraries -----\n",
    "\n",
    "using CSV, JLD2;\n",
    "using Dates, DataFrames, Statistics;\n",
    "include(\"./code/Metropolis-Within-Gibbs/MetropolisWithinGibbs.jl\");\n",
    "using Main.MetropolisWithinGibbs;\n",
    "using PlotlyJS, ORCA;\n",
    "pltjs = PlotlyJS;"
   ]
  },
  {
   "cell_type": "code",
   "execution_count": 2,
   "metadata": {},
   "outputs": [],
   "source": [
    "# User input\n",
    "titles = [\"Real GDP\", \"Employment\", \"Unemployment rate\", \"Oil price\", \"HICP inflation\", \"Core HICP inflation\", \"Expected inflation\", \"NB: Expected inflation\"];\n",
    "scales = [\"T.tn. Chn. 2010 DKK\", \"Thousands\", \"Percent\", \"\\$/Barrel\", \"Percent\", \"Percent\", \"Index\", \"Percent\"];"
   ]
  },
  {
   "cell_type": "code",
   "execution_count": 3,
   "metadata": {},
   "outputs": [],
   "source": [
    "# Load chunk0\n",
    "res_chunk0 = load(\"res_oos_chunk0.jld2\");\n",
    "\n",
    "# Load information about the out-of-sample period\n",
    "data          = res_chunk0[\"data_full\"];\n",
    "date          = res_chunk0[\"date\"];\n",
    "MNEMONIC      = res_chunk0[\"MNEMONIC\"];\n",
    "end_presample = res_chunk0[\"end_presample\"];\n",
    "end_oos       = res_chunk0[\"end_oos\"];\n",
    "oos_length    = res_chunk0[\"oos_length\"];"
   ]
  },
  {
   "cell_type": "code",
   "execution_count": 20,
   "metadata": {},
   "outputs": [
    {
     "name": "stdout",
     "output_type": "stream",
     "text": [
      "Reading chunk 1 (out of 26)\n",
      "Reading chunk 10 (out of 26)\n",
      "Reading chunk 20 (out of 26)\n",
      "Reading chunk 26 (out of 26)\n"
     ]
    }
   ],
   "source": [
    "# Initialise oos_forecast, α_array and σ_array\n",
    "oos_forecast = Array{Any}(undef, oos_length);\n",
    "α_array      = Array{Any}(undef, oos_length);\n",
    "σ_array      = Array{Any}(undef, oos_length);\n",
    "\n",
    "# Loop over every out-of-sample period\n",
    "for i=1:oos_length\n",
    "    \n",
    "    # Info\n",
    "    if i == 1 || mod(i, 10) == 0 || i == oos_length\n",
    "        println(\"Reading chunk $(i) (out of $(oos_length))\");\n",
    "    end\n",
    "    \n",
    "    # Load i-th chunk\n",
    "    res = jldopen(\"res_oos_chunk$(i).jld2\", \"r\");\n",
    "    \n",
    "    # Update oos_forecast, α_array and σ_array\n",
    "    #oos_forecast[i] = read(res[\"distr_fcst\"]);\n",
    "    oos_forecast[i] = res[\"distr_fcst\"];\n",
    "    #α_array[i] = read(res[\"distr_α\"]);\n",
    "    α_array[i] = res[\"distr_α\"];\n",
    "    #σ_array[i] = read(res[\"σʸ\"]);\n",
    "    σ_array[i] = res[\"σʸ\"];\n",
    "end\n",
    "\n",
    "# Forecast horizon\n",
    "max_h = size(oos_forecast[1])[1];"
   ]
  },
  {
   "cell_type": "code",
   "execution_count": 21,
   "metadata": {},
   "outputs": [],
   "source": [
    "# Initialise point forecasts, random walk forecasts\n",
    "point_forecast = zeros(oos_length-max_h, size(data,2), max_h) |> Array{Union{Missing, Float64}};\n",
    "rw_forecast    = zeros(oos_length-max_h, size(data,2), max_h) |> Array{Union{Missing, Float64}};\n",
    "actual         = zeros(oos_length-max_h, size(data,2), max_h) |> Array{Union{Missing, Float64}};"
   ]
  },
  {
   "cell_type": "code",
   "execution_count": 22,
   "metadata": {},
   "outputs": [],
   "source": [
    "# Point forecast and random walk\n",
    "for i=1:oos_length-max_h\n",
    "    \n",
    "    # Drift\n",
    "    d = mean(diff(data[1:end_presample+i-1,:], dims=1), dims=1)[:];\n",
    "\n",
    "    # Loop over the forecast horizon\n",
    "    for hz = 1:max_h\n",
    "        \n",
    "        # Random walk benchmark\n",
    "        if hz == 1\n",
    "            rw_forecast[i, :, hz] = d .+ data[end_presample+i-1, :];\n",
    "        else\n",
    "            rw_forecast[i, :, hz] = d .+ rw_forecast[i, :, hz-1]\n",
    "        end\n",
    "        \n",
    "        # Median forecast\n",
    "        point_forecast[i, :, hz] = median(oos_forecast[i][hz, :, :], dims=2);\n",
    "        \n",
    "        # Actual data\n",
    "        actual[i, :, hz] = data[end_presample+i+hz-1, :];\n",
    "    end\n",
    "end"
   ]
  },
  {
   "cell_type": "code",
   "execution_count": 44,
   "metadata": {},
   "outputs": [],
   "source": [
    "# Latest point forecast and random walk\n",
    "# Drift\n",
    "d = mean(diff(data[1:end_presample+oos_length-1,:], dims=1), dims=1)[:];\n",
    "\n",
    "# Loop over the forecast horizon\n",
    "for hz = 1:max_h\n",
    "        \n",
    "    # Random walk benchmark\n",
    "    if hz == 1\n",
    "        rw_forecast_latest[1, :, hz] = d .+ data[end_presample+oos_length-1, :];\n",
    "    else\n",
    "        rw_forecast_latest[1, :, hz] = d .+ rw_forecast_latest[1, :, hz-1]\n",
    "    end\n",
    "        \n",
    "    # Median forecast\n",
    "    point_forecast_latest[1, :, hz] = median(oos_forecast[oos_length][hz, :, :], dims=2);\n",
    "end"
   ]
  },
  {
   "cell_type": "code",
   "execution_count": 29,
   "metadata": {},
   "outputs": [],
   "source": [
    "# Compute RMSFE\n",
    "tc_rmsfe = sqrt.(dropdims(mean((actual - point_forecast).^2, dims=1), dims=1));\n",
    "rw_rmsfe = sqrt.(dropdims(mean((actual - rw_forecast).^2, dims=1), dims=1));\n",
    "\n",
    "# RMSFE DataFrame\n",
    "df_rmsfe = DataFrame(tc_rmsfe./rw_rmsfe, :auto);\n",
    "rename!(df_rmsfe, Symbol.([\"h$(hz)\" for hz=1:max_h]))\n",
    "CSV.write(\"./csv_output/rmsfe.csv\", df_rmsfe);"
   ]
  },
  {
   "cell_type": "markdown",
   "metadata": {},
   "source": [
    "##### Stability of the common components"
   ]
  },
  {
   "cell_type": "code",
   "execution_count": 30,
   "metadata": {},
   "outputs": [],
   "source": [
    "figures = Array{Any}(undef, 3);\n",
    "\n",
    "c1 = \"rgba(0, 48, 158, .75)\"; \n",
    "c2 = \"rgba(255, 0, 0, .75)\";\n",
    "\n",
    "titles_sub = [\"Business Cycle\", \"Energy Price Cycle\", \"Common Trend\"]\n",
    "scales_sub = [\"\", \"\", \"\"];\n",
    "\n",
    "for i=1:3\n",
    "        \n",
    "    traces1 = Array{Any}(undef, length(α_array));\n",
    "\n",
    "    for j=1:length(α_array)\n",
    "        \n",
    "        if i==1\n",
    "            αij = median(α_array[j][1,:,:], dims=2);\n",
    "        elseif i==2\n",
    "            αij = median(α_array[j][4,:,:], dims=2);\n",
    "        elseif i==3\n",
    "            αij = median(α_array[j][6,:,:], dims=2);\n",
    "        end\n",
    "        \n",
    "        traces1[j] = pltjs.scatter(x=date[1:end-max_h], y=αij[1:end-max_h], name=\"State\", mode=\"lines\", line=attr(width=1), showlegend=false);\n",
    "    end\n",
    "    \n",
    "    traces1 = convert(Array{PlotlyJS.GenericTrace{Dict{Symbol,Any}},1}, traces1)\n",
    "\n",
    "    layout  = pltjs.Layout(;title=titles_sub[i], titlefont=attr(size=12),\n",
    "                           xaxis=attr(tickfont_size=10, showgrid=true, linecolor=\"black\", mirror=true, nticks=20, tickangle=-90, zeroline=false),\n",
    "                           yaxis=attr(tickfont_size=10, showgrid=true, linecolor=\"black\", mirror=true, zeroline=false, titlefont=attr(size=10), title=scales_sub[i]));\n",
    "\n",
    "    figures[i] = pltjs.plot(traces1, layout);\n",
    "end\n",
    "\n",
    "fig = [figures[1]; figures[2]; figures[3]];\n",
    "\n",
    "# Size\n",
    "fig.plot.layout[\"width\"]  = 800;\n",
    "fig.plot.layout[\"height\"] = 600;\n",
    "\n",
    "# Margins\n",
    "fig.plot.layout[\"margin\"][:b]  = 40;\n",
    "fig.plot.layout[\"margin\"][:t]  = 40;\n",
    "fig.plot.layout[\"margin\"][:r]  = 40;\n",
    "fig.plot.layout[\"margin\"][:l]  = 40;\n",
    "\n",
    "# Title size\n",
    "for i=1:3\n",
    "    fig.plot.layout[\"annotations\"][i][:font][:size] = 12;\n",
    "end\n",
    "\n",
    "savefig(fig, \"./img/factor_revisions.pdf\", format=\"pdf\");"
   ]
  },
  {
   "cell_type": "markdown",
   "metadata": {},
   "source": [
    "# Forecast charts"
   ]
  },
  {
   "cell_type": "code",
   "execution_count": 98,
   "metadata": {},
   "outputs": [],
   "source": [
    "# Initialise latest point forecasts, random walk forecasts\n",
    "point_forecast_latest = zeros(size(data,2), max_h) |> Array{Union{Missing, Float64}};\n",
    "q95 = zeros(size(data,2), max_h) |> Array{Union{Missing, Float64}};\n",
    "q05 = zeros(size(data,2), max_h) |> Array{Union{Missing, Float64}}; \n",
    "q84 = zeros(size(data,2), max_h) |> Array{Union{Missing, Float64}};\n",
    "q16 = zeros(size(data,2), max_h) |> Array{Union{Missing, Float64}}; \n",
    "rw_forecast_latest    = zeros(size(data,2), max_h) |> Array{Union{Missing, Float64}};"
   ]
  },
  {
   "cell_type": "code",
   "execution_count": 99,
   "metadata": {},
   "outputs": [],
   "source": [
    "# Latest point forecast and random walk\n",
    "# Drift\n",
    "d = mean(diff(data[1:end_presample+oos_length-1,:], dims=1), dims=1)[:];\n",
    "\n",
    "# Loop over the forecast horizon\n",
    "for hz = 1:max_h\n",
    "        \n",
    "    # Random walk benchmark\n",
    "    if hz == 1\n",
    "        rw_forecast_latest[:, hz] = d .+ data[end_presample+oos_length-1, :];\n",
    "    else\n",
    "        rw_forecast_latest[:, hz] = d .+ rw_forecast_latest[:, hz-1]\n",
    "    end\n",
    "        \n",
    "    # Median forecast\n",
    "    point_forecast_latest[:, hz] = median(oos_forecast[oos_length][hz, :, :], dims=2);\n",
    "    \n",
    "    # Confidence bands\n",
    "    for i = 1:8\n",
    "        q95[i, hz] = quantile(oos_forecast[oos_length][hz, i, :], 0.95);\n",
    "        q05[i, hz] = quantile(oos_forecast[oos_length][hz, i, :], 0.05);\n",
    "        q84[i, hz] = quantile(oos_forecast[oos_length][hz, i, :], 0.84);\n",
    "        q16[i, hz] = quantile(oos_forecast[oos_length][hz, i, :], 0.16);\n",
    "    end\n",
    "end"
   ]
  },
  {
   "cell_type": "code",
   "execution_count": 62,
   "metadata": {},
   "outputs": [],
   "source": [
    "# ----- Dates: add forecast dates to date -----\n",
    "\n",
    "date=[date[i] for i=1:length(date)];\n",
    "\n",
    "for hz=1:max_h\n",
    "    \n",
    "    last_month = Dates.month(date[end]);\n",
    "    last_year  = Dates.year(date[end]);\n",
    "    new_month  = copy(last_month) + 3;\n",
    "    new_year   = copy(last_year);\n",
    "    \n",
    "    if last_month + 1 > 12\n",
    "        new_year  += 1;\n",
    "        new_month  = 3;\n",
    "    end\n",
    "    \n",
    "    new_entry = Dates.lastdayofquarter(Date(new_year, new_month, 1));\n",
    "    date      = vcat(date, DateTime(new_entry));\n",
    "end"
   ]
  },
  {
   "cell_type": "code",
   "execution_count": 65,
   "metadata": {},
   "outputs": [],
   "source": [
    "# Colour\n",
    "\n",
    "c1 = \"rgba(0, 48, 158, .75)\"; #\"rgba(0, 0, 158, .7)\";\n",
    "c2 = \"rgba(255, 0, 0, .75)\";\n",
    "c3 = \"rgba(255, 190, 0, .75)\";"
   ]
  },
  {
   "cell_type": "code",
   "execution_count": 106,
   "metadata": {},
   "outputs": [
    {
     "data": {
      "text/plain": [
       "\"./img/forecast_dk.pdf\""
      ]
     },
     "execution_count": 106,
     "metadata": {},
     "output_type": "execute_result"
    }
   ],
   "source": [
    "figures = Array{Any}(undef, 8);\n",
    "\n",
    "for i=1:8\n",
    "    trace0 = pltjs.scatter(;x=date[end_presample:end-max_h], y=data[end_presample:end, i], name=\"Data\", mode=\"lines\", line=attr(width=1.4, color=\"black\"), showlegend=i==1);\n",
    "    trace1 = pltjs.scatter(x=date[end-max_h:end], y=vcat(data[end, i], point_forecast_latest[i, :]), name=\"Forecast (median)\", mode=\"lines\", line=attr(width=1.4, color=c1, dash=\"dot\"), showlegend=i==1);\n",
    "    trace2 = pltjs.scatter(x=date[end-max_h:end], y=vcat(data[end, i], point_forecast_latest[i, :]), name=\"Forecast (median)\", mode=\"lines\", line=attr(width=1.4, color=c1, dash=\"dot\"), showlegend=false);\n",
    "    trace3 = pltjs.scatter(;x=date[end-max_h:end], y=vcat(data[end, i], q95[i, :]), name=\"CI, 90%\", mode=\"lines\", fill=\"tonexty\", fillcolor=\"rgba(185, 185, 185, .40)\", line_color=\"transparent\", showlegend=i==1);\n",
    "    trace4 = pltjs.scatter(;x=date[end-max_h:end], y=vcat(data[end, i], q05[i, :]), name=\"CI, 90%\", mode=\"lines\", fill=\"tonexty\", fillcolor=\"rgba(185, 185, 185, .40)\", line_color=\"transparent\", showlegend=false);\n",
    "    trace5 = pltjs.scatter(;x=date[end-max_h:end], y=vcat(data[end, i], q84[i, :]), name=\"CI, 68%\", mode=\"lines\", fill=\"tonexty\", fillcolor=\"rgba(185, 185, 185, .70)\", line_color=\"transparent\", showlegend=i==1);\n",
    "    trace6 = pltjs.scatter(;x=date[end-max_h:end], y=vcat(data[end, i], q16[i, :]), name=\"CI, 68%\", mode=\"lines\", fill=\"tonexty\", fillcolor=\"rgba(185, 185, 185, .70)\", line_color=\"transparent\", showlegend=false);\n",
    "    \n",
    "    \n",
    "    databar = [trace2; trace3;\n",
    "               trace2; trace4;\n",
    "               trace2; trace5;\n",
    "               trace2; trace6;\n",
    "               trace1; trace0;];\n",
    "    \n",
    "    layout  = pltjs.Layout(;title=titles[i], titlefont_size=12,\n",
    "                           xaxis=attr(tickfont_size=10, showgrid=true, linecolor=\"black\", mirror=true, titlefont=attr(size=10), nticks=10, tickangle=0),\n",
    "                           yaxis=attr(tickfont_size=10, showgrid=true, linecolor=\"black\", mirror=true, titlefont=attr(size=10), title=scales[i]));\n",
    "\n",
    "    figures[i] = pltjs.plot(databar, layout);\n",
    "end\n",
    "\n",
    "fig = [figures[1] figures[2]; figures[3] figures[4]; figures[5] figures[6]; figures[7] figures[8]];\n",
    "\n",
    "# Size\n",
    "fig.plot.layout[\"width\"]  = 800;\n",
    "fig.plot.layout[\"height\"] = 1000;\n",
    "\n",
    "# Margins\n",
    "fig.plot.layout[\"margin\"][:b]  = 40;\n",
    "fig.plot.layout[\"margin\"][:t]  = 40;\n",
    "fig.plot.layout[\"margin\"][:r]  = 40;\n",
    "fig.plot.layout[\"margin\"][:l]  = 40;\n",
    "\n",
    "# Title size\n",
    "for i=1:size(data, 2)\n",
    "    fig.plot.layout[\"annotations\"][i][:font][:size] = 10;\n",
    "end\n",
    "\n",
    "# Legend\n",
    "fig.plot.layout[\"legend\"] = attr(orientation=\"h\", y=-0.1, x=0.2, font=attr(size=10))\n",
    "\n",
    "#savefig(fig, \"./img/historical_decomposition.pdf\", format=\"pdf\")\n",
    "savefig(fig, \"./img/forecast_dk.pdf\", format=\"pdf\")"
   ]
  }
 ],
 "metadata": {
  "@webio": {
   "lastCommId": "eff80126346a4fe5a29d084191d0a070",
   "lastKernelId": "e7df7044-40e0-413a-bad3-e32c22159372"
  },
  "kernelspec": {
   "display_name": "Julia 1.7.2",
   "language": "julia",
   "name": "julia-1.7"
  },
  "language_info": {
   "file_extension": ".jl",
   "mimetype": "application/julia",
   "name": "julia",
   "version": "1.7.2"
  }
 },
 "nbformat": 4,
 "nbformat_minor": 2
}
